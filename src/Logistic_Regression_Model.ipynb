{
 "cells": [
  {
   "cell_type": "code",
   "execution_count": 1,
   "metadata": {},
   "outputs": [],
   "source": [
    "import numpy as np\n",
    "import pandas as pd\n",
    "import seaborn as sns\n",
    "import matplotlib.pyplot as plt"
   ]
  },
  {
   "cell_type": "code",
   "execution_count": 2,
   "metadata": {},
   "outputs": [],
   "source": [
    "from sklearn.model_selection import train_test_split\n",
    "from sklearn.linear_model import LogisticRegression \n",
    "from sklearn import metrics\n",
    "from sklearn.model_selection import KFold"
   ]
  },
  {
   "cell_type": "code",
   "execution_count": 3,
   "metadata": {},
   "outputs": [],
   "source": [
    "import warnings\n",
    "warnings.filterwarnings('ignore')"
   ]
  },
  {
   "cell_type": "code",
   "execution_count": 4,
   "metadata": {},
   "outputs": [],
   "source": [
    "df = pd.read_csv('../assests/scaled_voice_data.csv')"
   ]
  },
  {
   "cell_type": "code",
   "execution_count": 5,
   "metadata": {},
   "outputs": [
    {
     "data": {
      "text/html": [
       "<div>\n",
       "<style scoped>\n",
       "    .dataframe tbody tr th:only-of-type {\n",
       "        vertical-align: middle;\n",
       "    }\n",
       "\n",
       "    .dataframe tbody tr th {\n",
       "        vertical-align: top;\n",
       "    }\n",
       "\n",
       "    .dataframe thead th {\n",
       "        text-align: right;\n",
       "    }\n",
       "</style>\n",
       "<table border=\"1\" class=\"dataframe\">\n",
       "  <thead>\n",
       "    <tr style=\"text-align: right;\">\n",
       "      <th></th>\n",
       "      <th>meanfreq</th>\n",
       "      <th>sd</th>\n",
       "      <th>Q75</th>\n",
       "      <th>skew</th>\n",
       "      <th>sfm</th>\n",
       "      <th>mode</th>\n",
       "      <th>meanfun</th>\n",
       "      <th>minfun</th>\n",
       "      <th>maxfun</th>\n",
       "      <th>meandom</th>\n",
       "      <th>maxdom</th>\n",
       "      <th>modindx</th>\n",
       "      <th>gender</th>\n",
       "    </tr>\n",
       "  </thead>\n",
       "  <tbody>\n",
       "    <tr>\n",
       "      <th>0</th>\n",
       "      <td>-0.851530</td>\n",
       "      <td>0.288750</td>\n",
       "      <td>-0.702135</td>\n",
       "      <td>0.045661</td>\n",
       "      <td>0.658078</td>\n",
       "      <td>-0.808182</td>\n",
       "      <td>-1.070300</td>\n",
       "      <td>-1.049225</td>\n",
       "      <td>-1.217722</td>\n",
       "      <td>0.428449</td>\n",
       "      <td>-0.310231</td>\n",
       "      <td>1.490041</td>\n",
       "      <td>male</td>\n",
       "    </tr>\n",
       "    <tr>\n",
       "      <th>1</th>\n",
       "      <td>2.084694</td>\n",
       "      <td>-1.169544</td>\n",
       "      <td>1.722539</td>\n",
       "      <td>-0.050675</td>\n",
       "      <td>-1.279251</td>\n",
       "      <td>1.180453</td>\n",
       "      <td>1.367092</td>\n",
       "      <td>0.739336</td>\n",
       "      <td>0.618983</td>\n",
       "      <td>1.463027</td>\n",
       "      <td>1.309144</td>\n",
       "      <td>-0.481520</td>\n",
       "      <td>female</td>\n",
       "    </tr>\n",
       "    <tr>\n",
       "      <th>2</th>\n",
       "      <td>-0.517073</td>\n",
       "      <td>0.054301</td>\n",
       "      <td>-1.078278</td>\n",
       "      <td>-0.160767</td>\n",
       "      <td>0.305147</td>\n",
       "      <td>0.249806</td>\n",
       "      <td>-1.231903</td>\n",
       "      <td>0.484349</td>\n",
       "      <td>-0.666264</td>\n",
       "      <td>0.564103</td>\n",
       "      <td>0.108621</td>\n",
       "      <td>1.352695</td>\n",
       "      <td>male</td>\n",
       "    </tr>\n",
       "    <tr>\n",
       "      <th>3</th>\n",
       "      <td>0.381459</td>\n",
       "      <td>0.621918</td>\n",
       "      <td>1.226999</td>\n",
       "      <td>-0.221100</td>\n",
       "      <td>0.196662</td>\n",
       "      <td>1.146302</td>\n",
       "      <td>-0.213571</td>\n",
       "      <td>0.697687</td>\n",
       "      <td>0.672624</td>\n",
       "      <td>0.498357</td>\n",
       "      <td>0.636762</td>\n",
       "      <td>-0.582489</td>\n",
       "      <td>male</td>\n",
       "    </tr>\n",
       "    <tr>\n",
       "      <th>4</th>\n",
       "      <td>1.109734</td>\n",
       "      <td>-1.411762</td>\n",
       "      <td>0.757406</td>\n",
       "      <td>-0.409960</td>\n",
       "      <td>-1.490037</td>\n",
       "      <td>1.033517</td>\n",
       "      <td>0.629344</td>\n",
       "      <td>0.540973</td>\n",
       "      <td>0.565959</td>\n",
       "      <td>0.660845</td>\n",
       "      <td>1.149370</td>\n",
       "      <td>-0.812012</td>\n",
       "      <td>female</td>\n",
       "    </tr>\n",
       "  </tbody>\n",
       "</table>\n",
       "</div>"
      ],
      "text/plain": [
       "   meanfreq        sd       Q75      skew       sfm      mode   meanfun  \\\n",
       "0 -0.851530  0.288750 -0.702135  0.045661  0.658078 -0.808182 -1.070300   \n",
       "1  2.084694 -1.169544  1.722539 -0.050675 -1.279251  1.180453  1.367092   \n",
       "2 -0.517073  0.054301 -1.078278 -0.160767  0.305147  0.249806 -1.231903   \n",
       "3  0.381459  0.621918  1.226999 -0.221100  0.196662  1.146302 -0.213571   \n",
       "4  1.109734 -1.411762  0.757406 -0.409960 -1.490037  1.033517  0.629344   \n",
       "\n",
       "     minfun    maxfun   meandom    maxdom   modindx  gender  \n",
       "0 -1.049225 -1.217722  0.428449 -0.310231  1.490041    male  \n",
       "1  0.739336  0.618983  1.463027  1.309144 -0.481520  female  \n",
       "2  0.484349 -0.666264  0.564103  0.108621  1.352695    male  \n",
       "3  0.697687  0.672624  0.498357  0.636762 -0.582489    male  \n",
       "4  0.540973  0.565959  0.660845  1.149370 -0.812012  female  "
      ]
     },
     "execution_count": 5,
     "metadata": {},
     "output_type": "execute_result"
    }
   ],
   "source": [
    "df.head()"
   ]
  },
  {
   "cell_type": "code",
   "execution_count": 6,
   "metadata": {},
   "outputs": [],
   "source": [
    "x = df.drop('gender',axis=1)\n",
    "y = df['gender']"
   ]
  },
  {
   "cell_type": "code",
   "execution_count": 7,
   "metadata": {},
   "outputs": [
    {
     "data": {
      "text/html": [
       "<div>\n",
       "<style scoped>\n",
       "    .dataframe tbody tr th:only-of-type {\n",
       "        vertical-align: middle;\n",
       "    }\n",
       "\n",
       "    .dataframe tbody tr th {\n",
       "        vertical-align: top;\n",
       "    }\n",
       "\n",
       "    .dataframe thead th {\n",
       "        text-align: right;\n",
       "    }\n",
       "</style>\n",
       "<table border=\"1\" class=\"dataframe\">\n",
       "  <thead>\n",
       "    <tr style=\"text-align: right;\">\n",
       "      <th></th>\n",
       "      <th>meanfreq</th>\n",
       "      <th>sd</th>\n",
       "      <th>Q75</th>\n",
       "      <th>skew</th>\n",
       "      <th>sfm</th>\n",
       "      <th>mode</th>\n",
       "      <th>meanfun</th>\n",
       "      <th>minfun</th>\n",
       "      <th>maxfun</th>\n",
       "      <th>meandom</th>\n",
       "      <th>maxdom</th>\n",
       "      <th>modindx</th>\n",
       "    </tr>\n",
       "  </thead>\n",
       "  <tbody>\n",
       "    <tr>\n",
       "      <th>0</th>\n",
       "      <td>-0.851530</td>\n",
       "      <td>0.288750</td>\n",
       "      <td>-0.702135</td>\n",
       "      <td>0.045661</td>\n",
       "      <td>0.658078</td>\n",
       "      <td>-0.808182</td>\n",
       "      <td>-1.070300</td>\n",
       "      <td>-1.049225</td>\n",
       "      <td>-1.217722</td>\n",
       "      <td>0.428449</td>\n",
       "      <td>-0.310231</td>\n",
       "      <td>1.490041</td>\n",
       "    </tr>\n",
       "    <tr>\n",
       "      <th>1</th>\n",
       "      <td>2.084694</td>\n",
       "      <td>-1.169544</td>\n",
       "      <td>1.722539</td>\n",
       "      <td>-0.050675</td>\n",
       "      <td>-1.279251</td>\n",
       "      <td>1.180453</td>\n",
       "      <td>1.367092</td>\n",
       "      <td>0.739336</td>\n",
       "      <td>0.618983</td>\n",
       "      <td>1.463027</td>\n",
       "      <td>1.309144</td>\n",
       "      <td>-0.481520</td>\n",
       "    </tr>\n",
       "    <tr>\n",
       "      <th>2</th>\n",
       "      <td>-0.517073</td>\n",
       "      <td>0.054301</td>\n",
       "      <td>-1.078278</td>\n",
       "      <td>-0.160767</td>\n",
       "      <td>0.305147</td>\n",
       "      <td>0.249806</td>\n",
       "      <td>-1.231903</td>\n",
       "      <td>0.484349</td>\n",
       "      <td>-0.666264</td>\n",
       "      <td>0.564103</td>\n",
       "      <td>0.108621</td>\n",
       "      <td>1.352695</td>\n",
       "    </tr>\n",
       "    <tr>\n",
       "      <th>3</th>\n",
       "      <td>0.381459</td>\n",
       "      <td>0.621918</td>\n",
       "      <td>1.226999</td>\n",
       "      <td>-0.221100</td>\n",
       "      <td>0.196662</td>\n",
       "      <td>1.146302</td>\n",
       "      <td>-0.213571</td>\n",
       "      <td>0.697687</td>\n",
       "      <td>0.672624</td>\n",
       "      <td>0.498357</td>\n",
       "      <td>0.636762</td>\n",
       "      <td>-0.582489</td>\n",
       "    </tr>\n",
       "    <tr>\n",
       "      <th>4</th>\n",
       "      <td>1.109734</td>\n",
       "      <td>-1.411762</td>\n",
       "      <td>0.757406</td>\n",
       "      <td>-0.409960</td>\n",
       "      <td>-1.490037</td>\n",
       "      <td>1.033517</td>\n",
       "      <td>0.629344</td>\n",
       "      <td>0.540973</td>\n",
       "      <td>0.565959</td>\n",
       "      <td>0.660845</td>\n",
       "      <td>1.149370</td>\n",
       "      <td>-0.812012</td>\n",
       "    </tr>\n",
       "  </tbody>\n",
       "</table>\n",
       "</div>"
      ],
      "text/plain": [
       "   meanfreq        sd       Q75      skew       sfm      mode   meanfun  \\\n",
       "0 -0.851530  0.288750 -0.702135  0.045661  0.658078 -0.808182 -1.070300   \n",
       "1  2.084694 -1.169544  1.722539 -0.050675 -1.279251  1.180453  1.367092   \n",
       "2 -0.517073  0.054301 -1.078278 -0.160767  0.305147  0.249806 -1.231903   \n",
       "3  0.381459  0.621918  1.226999 -0.221100  0.196662  1.146302 -0.213571   \n",
       "4  1.109734 -1.411762  0.757406 -0.409960 -1.490037  1.033517  0.629344   \n",
       "\n",
       "     minfun    maxfun   meandom    maxdom   modindx  \n",
       "0 -1.049225 -1.217722  0.428449 -0.310231  1.490041  \n",
       "1  0.739336  0.618983  1.463027  1.309144 -0.481520  \n",
       "2  0.484349 -0.666264  0.564103  0.108621  1.352695  \n",
       "3  0.697687  0.672624  0.498357  0.636762 -0.582489  \n",
       "4  0.540973  0.565959  0.660845  1.149370 -0.812012  "
      ]
     },
     "execution_count": 7,
     "metadata": {},
     "output_type": "execute_result"
    }
   ],
   "source": [
    "x.head()"
   ]
  },
  {
   "cell_type": "code",
   "execution_count": 8,
   "metadata": {},
   "outputs": [
    {
     "data": {
      "text/plain": [
       "0      male\n",
       "1    female\n",
       "2      male\n",
       "3      male\n",
       "4    female\n",
       "Name: gender, dtype: object"
      ]
     },
     "execution_count": 8,
     "metadata": {},
     "output_type": "execute_result"
    }
   ],
   "source": [
    "y.head()"
   ]
  },
  {
   "cell_type": "markdown",
   "metadata": {},
   "source": [
    "### Perform K-Cross Validation for k = 10"
   ]
  },
  {
   "cell_type": "markdown",
   "metadata": {},
   "source": [
    "Logistic regression model"
   ]
  },
  {
   "cell_type": "code",
   "execution_count": 9,
   "metadata": {},
   "outputs": [],
   "source": [
    "def perform_logistic_regression(x_train, y_train, x_test, y_test, i, k, display_stats=False):\n",
    "    log_reg_model = LogisticRegression(penalty='l2', max_iter=500)\n",
    "    log_reg_model.fit(x_train, y_train)\n",
    "    y_pred = log_reg_model.predict(x_test)\n",
    "\n",
    "    # Accuracy, Precision, Recall, F1-score of Model\n",
    "    accuracy = metrics.accuracy_score(y_test, y_pred)\n",
    "    precision = metrics.precision_score(y_test, y_pred, average='weighted')\n",
    "    recall = metrics.recall_score(y_test, y_pred, average='weighted')\n",
    "    f1_score = metrics.f1_score(y_test, y_pred, average='weighted')\n",
    "\n",
    "    if display_stats:\n",
    "        print(f\"Statistics for Fold {i} in K-fold (k={k}) 'Logistic Regression' algorithm\")\n",
    "        print(f\"Accuracy: {accuracy}\")\n",
    "        print(f\"Precision: {precision}\")\n",
    "        print(f\"Recall: {recall}\")\n",
    "        print(f\"F1-score: {f1_score}\")\n",
    "        print()\n",
    "\n",
    "    return np.array([accuracy, precision, recall, f1_score])"
   ]
  },
  {
   "cell_type": "markdown",
   "metadata": {},
   "source": [
    "Perform K-corss validation"
   ]
  },
  {
   "cell_type": "code",
   "execution_count": 10,
   "metadata": {},
   "outputs": [
    {
     "name": "stdout",
     "output_type": "stream",
     "text": [
      "Mean accuracy: 0.970328035778461\n",
      "Mean Precision: 0.9704880943727809\n",
      "Mean Recall: 0.970328035778461\n",
      "MeanF1-score: 0.9703254508389015\n"
     ]
    }
   ],
   "source": [
    "k = 10\n",
    "i = 0\n",
    "k_fold = KFold(n_splits=k)\n",
    "\n",
    "# Holds Mean of {accuracy, precision, recall, f1_score}\n",
    "mean_stats = np.zeros(4)\n",
    "\n",
    "for train_index, test_index in k_fold.split(x):\n",
    "    x_train, x_test = x.loc[train_index], x.loc[test_index]\n",
    "    y_train, y_test = y.loc[train_index], y.loc[test_index]\n",
    "    \n",
    "    stats = perform_logistic_regression(x_train, y_train, x_test, y_test, i:=i+1, k, display_stats=False)\n",
    "    mean_stats = mean_stats + stats\n",
    "    \n",
    "# Take mean of {accuracy, precision, recall, f1_score}\n",
    "mean_stats = mean_stats / k\n",
    "\n",
    "print(f\"Mean accuracy: {mean_stats[0]}\")\n",
    "print(f\"Mean Precision: {mean_stats[1]}\")\n",
    "print(f\"Mean Recall: {mean_stats[2]}\")\n",
    "print(f\"MeanF1-score: {mean_stats[3]}\")"
   ]
  }
 ],
 "metadata": {
  "kernelspec": {
   "display_name": "Python 3.10.1 64-bit",
   "language": "python",
   "name": "python3"
  },
  "language_info": {
   "codemirror_mode": {
    "name": "ipython",
    "version": 3
   },
   "file_extension": ".py",
   "mimetype": "text/x-python",
   "name": "python",
   "nbconvert_exporter": "python",
   "pygments_lexer": "ipython3",
   "version": "3.10.1"
  },
  "orig_nbformat": 4,
  "vscode": {
   "interpreter": {
    "hash": "4f91e35da70fd7a53ceee9ab287ed040d81eb2ccfac088551011048c25bbd6e1"
   }
  }
 },
 "nbformat": 4,
 "nbformat_minor": 2
}
