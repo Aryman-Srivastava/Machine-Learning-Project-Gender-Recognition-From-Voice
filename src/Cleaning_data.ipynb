{
 "cells": [
  {
   "cell_type": "code",
   "execution_count": 1,
   "metadata": {},
   "outputs": [],
   "source": [
    "import numpy as np\n",
    "import pandas as pd\n",
    "import seaborn as sns\n",
    "import matplotlib.pyplot as plt"
   ]
  },
  {
   "cell_type": "code",
   "execution_count": 2,
   "metadata": {},
   "outputs": [],
   "source": [
    "df = pd.read_csv('../assests/feature_selected_voice_data.csv')"
   ]
  },
  {
   "cell_type": "code",
   "execution_count": 3,
   "metadata": {},
   "outputs": [
    {
     "data": {
      "text/plain": [
       "Index(['meanfreq', 'sd', 'Q75', 'skew', 'sfm', 'mode', 'meanfun', 'minfun',\n",
       "       'maxfun', 'meandom', 'maxdom', 'modindx', 'label'],\n",
       "      dtype='object')"
      ]
     },
     "execution_count": 3,
     "metadata": {},
     "output_type": "execute_result"
    }
   ],
   "source": [
    "df.columns"
   ]
  },
  {
   "cell_type": "code",
   "execution_count": 4,
   "metadata": {},
   "outputs": [
    {
     "name": "stdout",
     "output_type": "stream",
     "text": [
      "<class 'pandas.core.frame.DataFrame'>\n",
      "RangeIndex: 3168 entries, 0 to 3167\n",
      "Data columns (total 13 columns):\n",
      " #   Column    Non-Null Count  Dtype  \n",
      "---  ------    --------------  -----  \n",
      " 0   meanfreq  3168 non-null   float64\n",
      " 1   sd        3168 non-null   float64\n",
      " 2   Q75       3168 non-null   float64\n",
      " 3   skew      3168 non-null   float64\n",
      " 4   sfm       3168 non-null   float64\n",
      " 5   mode      3168 non-null   float64\n",
      " 6   meanfun   3168 non-null   float64\n",
      " 7   minfun    3168 non-null   float64\n",
      " 8   maxfun    3168 non-null   float64\n",
      " 9   meandom   3168 non-null   float64\n",
      " 10  maxdom    3168 non-null   float64\n",
      " 11  modindx   3168 non-null   float64\n",
      " 12  label     3168 non-null   object \n",
      "dtypes: float64(12), object(1)\n",
      "memory usage: 321.9+ KB\n"
     ]
    }
   ],
   "source": [
    "df.info()"
   ]
  },
  {
   "cell_type": "markdown",
   "metadata": {},
   "source": [
    "##### Number of Null values in every columns"
   ]
  },
  {
   "cell_type": "code",
   "execution_count": 5,
   "metadata": {},
   "outputs": [
    {
     "data": {
      "text/plain": [
       "meanfreq    0\n",
       "sd          0\n",
       "Q75         0\n",
       "skew        0\n",
       "sfm         0\n",
       "mode        0\n",
       "meanfun     0\n",
       "minfun      0\n",
       "maxfun      0\n",
       "meandom     0\n",
       "maxdom      0\n",
       "modindx     0\n",
       "label       0\n",
       "dtype: int64"
      ]
     },
     "execution_count": 5,
     "metadata": {},
     "output_type": "execute_result"
    }
   ],
   "source": [
    "df.isnull().sum()"
   ]
  },
  {
   "cell_type": "code",
   "execution_count": 6,
   "metadata": {},
   "outputs": [
    {
     "data": {
      "text/html": [
       "<div>\n",
       "<style scoped>\n",
       "    .dataframe tbody tr th:only-of-type {\n",
       "        vertical-align: middle;\n",
       "    }\n",
       "\n",
       "    .dataframe tbody tr th {\n",
       "        vertical-align: top;\n",
       "    }\n",
       "\n",
       "    .dataframe thead th {\n",
       "        text-align: right;\n",
       "    }\n",
       "</style>\n",
       "<table border=\"1\" class=\"dataframe\">\n",
       "  <thead>\n",
       "    <tr style=\"text-align: right;\">\n",
       "      <th></th>\n",
       "      <th>count</th>\n",
       "      <th>mean</th>\n",
       "      <th>std</th>\n",
       "      <th>min</th>\n",
       "      <th>25%</th>\n",
       "      <th>50%</th>\n",
       "      <th>75%</th>\n",
       "      <th>max</th>\n",
       "    </tr>\n",
       "  </thead>\n",
       "  <tbody>\n",
       "    <tr>\n",
       "      <th>meanfreq</th>\n",
       "      <td>3168.0</td>\n",
       "      <td>0.180907</td>\n",
       "      <td>0.029918</td>\n",
       "      <td>0.039363</td>\n",
       "      <td>0.163662</td>\n",
       "      <td>0.184838</td>\n",
       "      <td>0.199146</td>\n",
       "      <td>0.251124</td>\n",
       "    </tr>\n",
       "    <tr>\n",
       "      <th>sd</th>\n",
       "      <td>3168.0</td>\n",
       "      <td>0.057126</td>\n",
       "      <td>0.016652</td>\n",
       "      <td>0.018363</td>\n",
       "      <td>0.041954</td>\n",
       "      <td>0.059155</td>\n",
       "      <td>0.067020</td>\n",
       "      <td>0.115273</td>\n",
       "    </tr>\n",
       "    <tr>\n",
       "      <th>Q75</th>\n",
       "      <td>3168.0</td>\n",
       "      <td>0.224765</td>\n",
       "      <td>0.023639</td>\n",
       "      <td>0.042946</td>\n",
       "      <td>0.208747</td>\n",
       "      <td>0.225684</td>\n",
       "      <td>0.243660</td>\n",
       "      <td>0.273469</td>\n",
       "    </tr>\n",
       "    <tr>\n",
       "      <th>skew</th>\n",
       "      <td>3168.0</td>\n",
       "      <td>3.140168</td>\n",
       "      <td>4.240529</td>\n",
       "      <td>0.141735</td>\n",
       "      <td>1.649569</td>\n",
       "      <td>2.197101</td>\n",
       "      <td>2.931694</td>\n",
       "      <td>34.725453</td>\n",
       "    </tr>\n",
       "    <tr>\n",
       "      <th>sfm</th>\n",
       "      <td>3168.0</td>\n",
       "      <td>0.408216</td>\n",
       "      <td>0.177521</td>\n",
       "      <td>0.036876</td>\n",
       "      <td>0.258041</td>\n",
       "      <td>0.396335</td>\n",
       "      <td>0.533676</td>\n",
       "      <td>0.842936</td>\n",
       "    </tr>\n",
       "    <tr>\n",
       "      <th>mode</th>\n",
       "      <td>3168.0</td>\n",
       "      <td>0.165282</td>\n",
       "      <td>0.077203</td>\n",
       "      <td>0.000000</td>\n",
       "      <td>0.118016</td>\n",
       "      <td>0.186599</td>\n",
       "      <td>0.221104</td>\n",
       "      <td>0.280000</td>\n",
       "    </tr>\n",
       "    <tr>\n",
       "      <th>meanfun</th>\n",
       "      <td>3168.0</td>\n",
       "      <td>0.142807</td>\n",
       "      <td>0.032304</td>\n",
       "      <td>0.055565</td>\n",
       "      <td>0.116998</td>\n",
       "      <td>0.140519</td>\n",
       "      <td>0.169581</td>\n",
       "      <td>0.237636</td>\n",
       "    </tr>\n",
       "    <tr>\n",
       "      <th>minfun</th>\n",
       "      <td>3168.0</td>\n",
       "      <td>0.036802</td>\n",
       "      <td>0.019220</td>\n",
       "      <td>0.009775</td>\n",
       "      <td>0.018223</td>\n",
       "      <td>0.046110</td>\n",
       "      <td>0.047904</td>\n",
       "      <td>0.204082</td>\n",
       "    </tr>\n",
       "    <tr>\n",
       "      <th>maxfun</th>\n",
       "      <td>3168.0</td>\n",
       "      <td>0.258842</td>\n",
       "      <td>0.030077</td>\n",
       "      <td>0.103093</td>\n",
       "      <td>0.253968</td>\n",
       "      <td>0.271186</td>\n",
       "      <td>0.277457</td>\n",
       "      <td>0.279114</td>\n",
       "    </tr>\n",
       "    <tr>\n",
       "      <th>meandom</th>\n",
       "      <td>3168.0</td>\n",
       "      <td>0.829211</td>\n",
       "      <td>0.525205</td>\n",
       "      <td>0.007812</td>\n",
       "      <td>0.419828</td>\n",
       "      <td>0.765795</td>\n",
       "      <td>1.177166</td>\n",
       "      <td>2.957682</td>\n",
       "    </tr>\n",
       "    <tr>\n",
       "      <th>maxdom</th>\n",
       "      <td>3168.0</td>\n",
       "      <td>5.047277</td>\n",
       "      <td>3.521157</td>\n",
       "      <td>0.007812</td>\n",
       "      <td>2.070312</td>\n",
       "      <td>4.992188</td>\n",
       "      <td>7.007812</td>\n",
       "      <td>21.867188</td>\n",
       "    </tr>\n",
       "    <tr>\n",
       "      <th>modindx</th>\n",
       "      <td>3168.0</td>\n",
       "      <td>0.173752</td>\n",
       "      <td>0.119454</td>\n",
       "      <td>0.000000</td>\n",
       "      <td>0.099766</td>\n",
       "      <td>0.139357</td>\n",
       "      <td>0.209183</td>\n",
       "      <td>0.932374</td>\n",
       "    </tr>\n",
       "  </tbody>\n",
       "</table>\n",
       "</div>"
      ],
      "text/plain": [
       "           count      mean       std       min       25%       50%       75%  \\\n",
       "meanfreq  3168.0  0.180907  0.029918  0.039363  0.163662  0.184838  0.199146   \n",
       "sd        3168.0  0.057126  0.016652  0.018363  0.041954  0.059155  0.067020   \n",
       "Q75       3168.0  0.224765  0.023639  0.042946  0.208747  0.225684  0.243660   \n",
       "skew      3168.0  3.140168  4.240529  0.141735  1.649569  2.197101  2.931694   \n",
       "sfm       3168.0  0.408216  0.177521  0.036876  0.258041  0.396335  0.533676   \n",
       "mode      3168.0  0.165282  0.077203  0.000000  0.118016  0.186599  0.221104   \n",
       "meanfun   3168.0  0.142807  0.032304  0.055565  0.116998  0.140519  0.169581   \n",
       "minfun    3168.0  0.036802  0.019220  0.009775  0.018223  0.046110  0.047904   \n",
       "maxfun    3168.0  0.258842  0.030077  0.103093  0.253968  0.271186  0.277457   \n",
       "meandom   3168.0  0.829211  0.525205  0.007812  0.419828  0.765795  1.177166   \n",
       "maxdom    3168.0  5.047277  3.521157  0.007812  2.070312  4.992188  7.007812   \n",
       "modindx   3168.0  0.173752  0.119454  0.000000  0.099766  0.139357  0.209183   \n",
       "\n",
       "                max  \n",
       "meanfreq   0.251124  \n",
       "sd         0.115273  \n",
       "Q75        0.273469  \n",
       "skew      34.725453  \n",
       "sfm        0.842936  \n",
       "mode       0.280000  \n",
       "meanfun    0.237636  \n",
       "minfun     0.204082  \n",
       "maxfun     0.279114  \n",
       "meandom    2.957682  \n",
       "maxdom    21.867188  \n",
       "modindx    0.932374  "
      ]
     },
     "execution_count": 6,
     "metadata": {},
     "output_type": "execute_result"
    }
   ],
   "source": [
    "df.describe().transpose()"
   ]
  },
  {
   "cell_type": "markdown",
   "metadata": {},
   "source": [
    "##### Duplicates values in Data"
   ]
  },
  {
   "cell_type": "markdown",
   "metadata": {},
   "source": [
    "Only two Duplicate Data in Datset\n",
    "\n",
    "Not much duplicates present, no need to remove"
   ]
  },
  {
   "cell_type": "code",
   "execution_count": 7,
   "metadata": {},
   "outputs": [
    {
     "data": {
      "text/html": [
       "<div>\n",
       "<style scoped>\n",
       "    .dataframe tbody tr th:only-of-type {\n",
       "        vertical-align: middle;\n",
       "    }\n",
       "\n",
       "    .dataframe tbody tr th {\n",
       "        vertical-align: top;\n",
       "    }\n",
       "\n",
       "    .dataframe thead th {\n",
       "        text-align: right;\n",
       "    }\n",
       "</style>\n",
       "<table border=\"1\" class=\"dataframe\">\n",
       "  <thead>\n",
       "    <tr style=\"text-align: right;\">\n",
       "      <th></th>\n",
       "      <th>meanfreq</th>\n",
       "      <th>sd</th>\n",
       "      <th>Q75</th>\n",
       "      <th>skew</th>\n",
       "      <th>sfm</th>\n",
       "      <th>mode</th>\n",
       "      <th>meanfun</th>\n",
       "      <th>minfun</th>\n",
       "      <th>maxfun</th>\n",
       "      <th>meandom</th>\n",
       "      <th>maxdom</th>\n",
       "      <th>modindx</th>\n",
       "      <th>label</th>\n",
       "    </tr>\n",
       "  </thead>\n",
       "  <tbody>\n",
       "    <tr>\n",
       "      <th>298</th>\n",
       "      <td>0.213732</td>\n",
       "      <td>0.057705</td>\n",
       "      <td>0.257984</td>\n",
       "      <td>2.113598</td>\n",
       "      <td>0.084934</td>\n",
       "      <td>0.248978</td>\n",
       "      <td>0.133667</td>\n",
       "      <td>0.028319</td>\n",
       "      <td>0.253968</td>\n",
       "      <td>0.818125</td>\n",
       "      <td>4.164062</td>\n",
       "      <td>0.229051</td>\n",
       "      <td>male</td>\n",
       "    </tr>\n",
       "    <tr>\n",
       "      <th>2403</th>\n",
       "      <td>0.212190</td>\n",
       "      <td>0.043190</td>\n",
       "      <td>0.245644</td>\n",
       "      <td>1.862573</td>\n",
       "      <td>0.314398</td>\n",
       "      <td>0.188957</td>\n",
       "      <td>0.139942</td>\n",
       "      <td>0.047198</td>\n",
       "      <td>0.279070</td>\n",
       "      <td>1.925551</td>\n",
       "      <td>15.609375</td>\n",
       "      <td>0.121344</td>\n",
       "      <td>female</td>\n",
       "    </tr>\n",
       "  </tbody>\n",
       "</table>\n",
       "</div>"
      ],
      "text/plain": [
       "      meanfreq        sd       Q75      skew       sfm      mode   meanfun  \\\n",
       "298   0.213732  0.057705  0.257984  2.113598  0.084934  0.248978  0.133667   \n",
       "2403  0.212190  0.043190  0.245644  1.862573  0.314398  0.188957  0.139942   \n",
       "\n",
       "        minfun    maxfun   meandom     maxdom   modindx   label  \n",
       "298   0.028319  0.253968  0.818125   4.164062  0.229051    male  \n",
       "2403  0.047198  0.279070  1.925551  15.609375  0.121344  female  "
      ]
     },
     "execution_count": 7,
     "metadata": {},
     "output_type": "execute_result"
    }
   ],
   "source": [
    "df[df.duplicated()]"
   ]
  },
  {
   "cell_type": "code",
   "execution_count": 8,
   "metadata": {},
   "outputs": [],
   "source": [
    "from sklearn.preprocessing import StandardScaler"
   ]
  },
  {
   "cell_type": "markdown",
   "metadata": {},
   "source": [
    "Normalize the Dataset"
   ]
  },
  {
   "cell_type": "code",
   "execution_count": 9,
   "metadata": {},
   "outputs": [],
   "source": [
    "scalar = StandardScaler()\n",
    "\n",
    "scalar.fit(df.drop('label', axis=1))\n",
    "\n",
    "scaled_df = scalar.transform(df.drop('label', axis=1))\n",
    "\n",
    "scaled_df = pd.DataFrame(scaled_df, columns=df.columns[:-1])"
   ]
  },
  {
   "cell_type": "markdown",
   "metadata": {},
   "source": [
    "Shuffle the dataset randomly (because all males & female were grouped)"
   ]
  },
  {
   "cell_type": "code",
   "execution_count": 10,
   "metadata": {},
   "outputs": [],
   "source": [
    "scaled_df['gender'] = df['label']\n",
    "\n",
    "scaled_df = scaled_df.sample(frac=1)\n",
    "\n",
    "scaled_df.index = np.arange(scaled_df.shape[0])"
   ]
  },
  {
   "cell_type": "code",
   "execution_count": 11,
   "metadata": {},
   "outputs": [
    {
     "data": {
      "text/html": [
       "<div>\n",
       "<style scoped>\n",
       "    .dataframe tbody tr th:only-of-type {\n",
       "        vertical-align: middle;\n",
       "    }\n",
       "\n",
       "    .dataframe tbody tr th {\n",
       "        vertical-align: top;\n",
       "    }\n",
       "\n",
       "    .dataframe thead th {\n",
       "        text-align: right;\n",
       "    }\n",
       "</style>\n",
       "<table border=\"1\" class=\"dataframe\">\n",
       "  <thead>\n",
       "    <tr style=\"text-align: right;\">\n",
       "      <th></th>\n",
       "      <th>meanfreq</th>\n",
       "      <th>sd</th>\n",
       "      <th>Q75</th>\n",
       "      <th>skew</th>\n",
       "      <th>sfm</th>\n",
       "      <th>mode</th>\n",
       "      <th>meanfun</th>\n",
       "      <th>minfun</th>\n",
       "      <th>maxfun</th>\n",
       "      <th>meandom</th>\n",
       "      <th>maxdom</th>\n",
       "      <th>modindx</th>\n",
       "      <th>gender</th>\n",
       "    </tr>\n",
       "  </thead>\n",
       "  <tbody>\n",
       "    <tr>\n",
       "      <th>0</th>\n",
       "      <td>-0.851530</td>\n",
       "      <td>0.288750</td>\n",
       "      <td>-0.702135</td>\n",
       "      <td>0.045661</td>\n",
       "      <td>0.658078</td>\n",
       "      <td>-0.808182</td>\n",
       "      <td>-1.070300</td>\n",
       "      <td>-1.049225</td>\n",
       "      <td>-1.217722</td>\n",
       "      <td>0.428449</td>\n",
       "      <td>-0.310231</td>\n",
       "      <td>1.490041</td>\n",
       "      <td>male</td>\n",
       "    </tr>\n",
       "    <tr>\n",
       "      <th>1</th>\n",
       "      <td>2.084694</td>\n",
       "      <td>-1.169544</td>\n",
       "      <td>1.722539</td>\n",
       "      <td>-0.050675</td>\n",
       "      <td>-1.279251</td>\n",
       "      <td>1.180453</td>\n",
       "      <td>1.367092</td>\n",
       "      <td>0.739336</td>\n",
       "      <td>0.618983</td>\n",
       "      <td>1.463027</td>\n",
       "      <td>1.309144</td>\n",
       "      <td>-0.481520</td>\n",
       "      <td>female</td>\n",
       "    </tr>\n",
       "    <tr>\n",
       "      <th>2</th>\n",
       "      <td>-0.517073</td>\n",
       "      <td>0.054301</td>\n",
       "      <td>-1.078278</td>\n",
       "      <td>-0.160767</td>\n",
       "      <td>0.305147</td>\n",
       "      <td>0.249806</td>\n",
       "      <td>-1.231903</td>\n",
       "      <td>0.484349</td>\n",
       "      <td>-0.666264</td>\n",
       "      <td>0.564103</td>\n",
       "      <td>0.108621</td>\n",
       "      <td>1.352695</td>\n",
       "      <td>male</td>\n",
       "    </tr>\n",
       "    <tr>\n",
       "      <th>3</th>\n",
       "      <td>0.381459</td>\n",
       "      <td>0.621918</td>\n",
       "      <td>1.226999</td>\n",
       "      <td>-0.221100</td>\n",
       "      <td>0.196662</td>\n",
       "      <td>1.146302</td>\n",
       "      <td>-0.213571</td>\n",
       "      <td>0.697687</td>\n",
       "      <td>0.672624</td>\n",
       "      <td>0.498357</td>\n",
       "      <td>0.636762</td>\n",
       "      <td>-0.582489</td>\n",
       "      <td>male</td>\n",
       "    </tr>\n",
       "    <tr>\n",
       "      <th>4</th>\n",
       "      <td>1.109734</td>\n",
       "      <td>-1.411762</td>\n",
       "      <td>0.757406</td>\n",
       "      <td>-0.409960</td>\n",
       "      <td>-1.490037</td>\n",
       "      <td>1.033517</td>\n",
       "      <td>0.629344</td>\n",
       "      <td>0.540973</td>\n",
       "      <td>0.565959</td>\n",
       "      <td>0.660845</td>\n",
       "      <td>1.149370</td>\n",
       "      <td>-0.812012</td>\n",
       "      <td>female</td>\n",
       "    </tr>\n",
       "  </tbody>\n",
       "</table>\n",
       "</div>"
      ],
      "text/plain": [
       "   meanfreq        sd       Q75      skew       sfm      mode   meanfun  \\\n",
       "0 -0.851530  0.288750 -0.702135  0.045661  0.658078 -0.808182 -1.070300   \n",
       "1  2.084694 -1.169544  1.722539 -0.050675 -1.279251  1.180453  1.367092   \n",
       "2 -0.517073  0.054301 -1.078278 -0.160767  0.305147  0.249806 -1.231903   \n",
       "3  0.381459  0.621918  1.226999 -0.221100  0.196662  1.146302 -0.213571   \n",
       "4  1.109734 -1.411762  0.757406 -0.409960 -1.490037  1.033517  0.629344   \n",
       "\n",
       "     minfun    maxfun   meandom    maxdom   modindx  gender  \n",
       "0 -1.049225 -1.217722  0.428449 -0.310231  1.490041    male  \n",
       "1  0.739336  0.618983  1.463027  1.309144 -0.481520  female  \n",
       "2  0.484349 -0.666264  0.564103  0.108621  1.352695    male  \n",
       "3  0.697687  0.672624  0.498357  0.636762 -0.582489    male  \n",
       "4  0.540973  0.565959  0.660845  1.149370 -0.812012  female  "
      ]
     },
     "execution_count": 11,
     "metadata": {},
     "output_type": "execute_result"
    }
   ],
   "source": [
    "scaled_df.head()"
   ]
  },
  {
   "cell_type": "code",
   "execution_count": 12,
   "metadata": {},
   "outputs": [
    {
     "name": "stdout",
     "output_type": "stream",
     "text": [
      "<class 'pandas.core.frame.DataFrame'>\n",
      "Int64Index: 3168 entries, 0 to 3167\n",
      "Data columns (total 13 columns):\n",
      " #   Column    Non-Null Count  Dtype  \n",
      "---  ------    --------------  -----  \n",
      " 0   meanfreq  3168 non-null   float64\n",
      " 1   sd        3168 non-null   float64\n",
      " 2   Q75       3168 non-null   float64\n",
      " 3   skew      3168 non-null   float64\n",
      " 4   sfm       3168 non-null   float64\n",
      " 5   mode      3168 non-null   float64\n",
      " 6   meanfun   3168 non-null   float64\n",
      " 7   minfun    3168 non-null   float64\n",
      " 8   maxfun    3168 non-null   float64\n",
      " 9   meandom   3168 non-null   float64\n",
      " 10  maxdom    3168 non-null   float64\n",
      " 11  modindx   3168 non-null   float64\n",
      " 12  gender    3168 non-null   object \n",
      "dtypes: float64(12), object(1)\n",
      "memory usage: 346.5+ KB\n"
     ]
    }
   ],
   "source": [
    "scaled_df.info()"
   ]
  },
  {
   "cell_type": "code",
   "execution_count": 14,
   "metadata": {},
   "outputs": [],
   "source": [
    "scaled_df.to_csv('../assests/scaled_voice_data.csv', index=False)"
   ]
  }
 ],
 "metadata": {
  "kernelspec": {
   "display_name": "Python 3.10.1 64-bit",
   "language": "python",
   "name": "python3"
  },
  "language_info": {
   "codemirror_mode": {
    "name": "ipython",
    "version": 3
   },
   "file_extension": ".py",
   "mimetype": "text/x-python",
   "name": "python",
   "nbconvert_exporter": "python",
   "pygments_lexer": "ipython3",
   "version": "3.10.1"
  },
  "orig_nbformat": 4,
  "vscode": {
   "interpreter": {
    "hash": "4f91e35da70fd7a53ceee9ab287ed040d81eb2ccfac088551011048c25bbd6e1"
   }
  }
 },
 "nbformat": 4,
 "nbformat_minor": 2
}
