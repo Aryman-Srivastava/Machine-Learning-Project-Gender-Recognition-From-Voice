{
 "cells": [
  {
   "cell_type": "code",
   "execution_count": 1,
   "metadata": {},
   "outputs": [],
   "source": [
    "import matplotlib.pyplot as plt\n",
    "import seaborn as sns\n",
    "import pandas as pd\n",
    "import numpy as np\n",
    "%matplotlib inline"
   ]
  },
  {
   "cell_type": "code",
   "execution_count": 10,
   "metadata": {},
   "outputs": [],
   "source": [
    "from sklearn.preprocessing import LabelEncoder\n",
    "from sklearn import decomposition\n",
    "from sklearn.decomposition import PCA\n",
    "from sklearn import metrics\n",
    "from sklearn.model_selection import train_test_split\n",
    "from sklearn.linear_model import LogisticRegression\n",
    "\n",
    "df = pd.read_csv('../assests/scaled_voice_data.csv')\n",
    "x = df.drop('gender', axis=1)\n",
    "y = df['gender']"
   ]
  },
  {
   "cell_type": "code",
   "execution_count": 16,
   "metadata": {},
   "outputs": [
    {
     "name": "stdout",
     "output_type": "stream",
     "text": [
      "\n",
      "Number of Components: 4\n",
      "GaussianNB with PCA variance 0.04%\n",
      "Accuracy with PCA 0.8422712933753943\n",
      "Precision with PCA 0.8476450098440103\n",
      "Recall with PCA 0.8426630840423943\n",
      "F1 score with PCA 0.8417610941945789\n",
      "\n",
      "Number of Components: 6\n",
      "GaussianNB with PCA variance 0.06%\n",
      "Accuracy with PCA 0.9668769716088328\n",
      "Precision with PCA 0.9669433827042523\n",
      "Recall with PCA 0.9668457978802807\n",
      "F1 score with PCA 0.9668729332905374\n",
      "\n",
      "Number of Components: 8\n",
      "GaussianNB with PCA variance 0.08%\n",
      "Accuracy with PCA 0.9684542586750788\n",
      "Precision with PCA 0.9684890468085954\n",
      "Recall with PCA 0.9684330994675823\n",
      "F1 score with PCA 0.9684514331210191\n",
      "\n",
      "Number of Components: 10\n",
      "GaussianNB with PCA variance 0.1%\n",
      "Accuracy with PCA 0.9716088328075709\n",
      "Precision with PCA 0.9717181169303057\n",
      "Recall with PCA 0.9715678957058267\n",
      "F1 score with PCA 0.9716043116061032\n",
      "\n",
      "Number of Components: 12\n",
      "GaussianNB with PCA variance 0.12%\n",
      "Accuracy with PCA 0.9684542586750788\n",
      "Precision with PCA 0.9684890468085954\n",
      "Recall with PCA 0.9684330994675823\n",
      "F1 score with PCA 0.9684514331210191\n"
     ]
    }
   ],
   "source": [
    "for i in range(4,13,2):\n",
    "    pca = PCA(n_components=i)\n",
    "    pca.fit(x)\n",
    "    pca_df = pca.transform(x)\n",
    "    \n",
    "    L = []\n",
    "\n",
    "    for k in range(1, len(pca_df[0])+1):\n",
    "        L.append(\"PCA\"+str(k))\n",
    "    pca_df = pd.DataFrame(pca_df, columns=L)\n",
    "    \n",
    "    X_trainpca, X_testpca , Y_trainpca, Y_testpca = train_test_split(pca_df, y, test_size=0.2, random_state=20)\n",
    "\n",
    "    lr_pca = LogisticRegression(penalty='l2', max_iter=500)\n",
    "    lr_pca.fit(X_trainpca, Y_trainpca)\n",
    "    y_pca_pred =lr_pca.predict(X_testpca)\n",
    "\n",
    "    print()\n",
    "    print(\"Number of Components: \" + str(i))\n",
    "    print(f\"GaussianNB with PCA variance {i/100}%\")\n",
    "    print(\"Accuracy with PCA\", metrics.accuracy_score(Y_testpca, y_pca_pred))\n",
    "    print(\"Precision with PCA\", metrics.precision_score(Y_testpca, y_pca_pred, average = 'macro'))\n",
    "    print(\"Recall with PCA\", metrics.recall_score(Y_testpca, y_pca_pred, average = 'macro'))\n",
    "    print(\"F1 score with PCA\", metrics.f1_score(Y_testpca, y_pca_pred, average = 'macro') )"
   ]
  },
  {
   "cell_type": "markdown",
   "metadata": {},
   "source": [
    "### PCA for 10 components"
   ]
  },
  {
   "cell_type": "code",
   "execution_count": 20,
   "metadata": {},
   "outputs": [
    {
     "data": {
      "text/html": [
       "<div>\n",
       "<style scoped>\n",
       "    .dataframe tbody tr th:only-of-type {\n",
       "        vertical-align: middle;\n",
       "    }\n",
       "\n",
       "    .dataframe tbody tr th {\n",
       "        vertical-align: top;\n",
       "    }\n",
       "\n",
       "    .dataframe thead th {\n",
       "        text-align: right;\n",
       "    }\n",
       "</style>\n",
       "<table border=\"1\" class=\"dataframe\">\n",
       "  <thead>\n",
       "    <tr style=\"text-align: right;\">\n",
       "      <th></th>\n",
       "      <th>PC1</th>\n",
       "      <th>PC2</th>\n",
       "      <th>PC3</th>\n",
       "      <th>PC4</th>\n",
       "      <th>PC5</th>\n",
       "      <th>PC6</th>\n",
       "      <th>PC7</th>\n",
       "      <th>PC8</th>\n",
       "      <th>PC9</th>\n",
       "      <th>PC10</th>\n",
       "    </tr>\n",
       "  </thead>\n",
       "  <tbody>\n",
       "    <tr>\n",
       "      <th>0</th>\n",
       "      <td>0.391319</td>\n",
       "      <td>-1.201480</td>\n",
       "      <td>-0.144387</td>\n",
       "      <td>0.087451</td>\n",
       "      <td>-0.339878</td>\n",
       "      <td>-0.770705</td>\n",
       "      <td>0.325513</td>\n",
       "      <td>0.068958</td>\n",
       "      <td>0.169749</td>\n",
       "      <td>-0.252772</td>\n",
       "    </tr>\n",
       "    <tr>\n",
       "      <th>1</th>\n",
       "      <td>4.918264</td>\n",
       "      <td>0.161819</td>\n",
       "      <td>0.260921</td>\n",
       "      <td>-0.173135</td>\n",
       "      <td>0.152522</td>\n",
       "      <td>-0.190551</td>\n",
       "      <td>0.892711</td>\n",
       "      <td>-0.999541</td>\n",
       "      <td>0.357837</td>\n",
       "      <td>-0.025498</td>\n",
       "    </tr>\n",
       "    <tr>\n",
       "      <th>2</th>\n",
       "      <td>-0.979373</td>\n",
       "      <td>-1.681827</td>\n",
       "      <td>-0.129950</td>\n",
       "      <td>0.197744</td>\n",
       "      <td>-0.618196</td>\n",
       "      <td>0.917564</td>\n",
       "      <td>0.156921</td>\n",
       "      <td>0.814881</td>\n",
       "      <td>0.030497</td>\n",
       "      <td>0.241747</td>\n",
       "    </tr>\n",
       "    <tr>\n",
       "      <th>3</th>\n",
       "      <td>-2.048714</td>\n",
       "      <td>0.766881</td>\n",
       "      <td>-0.201251</td>\n",
       "      <td>0.143089</td>\n",
       "      <td>-0.243193</td>\n",
       "      <td>0.112856</td>\n",
       "      <td>0.233817</td>\n",
       "      <td>0.355381</td>\n",
       "      <td>0.025467</td>\n",
       "      <td>-0.133834</td>\n",
       "    </tr>\n",
       "    <tr>\n",
       "      <th>4</th>\n",
       "      <td>-2.479937</td>\n",
       "      <td>0.205079</td>\n",
       "      <td>0.010633</td>\n",
       "      <td>0.099488</td>\n",
       "      <td>-0.150123</td>\n",
       "      <td>0.022672</td>\n",
       "      <td>0.190088</td>\n",
       "      <td>0.324685</td>\n",
       "      <td>0.091452</td>\n",
       "      <td>0.085824</td>\n",
       "    </tr>\n",
       "  </tbody>\n",
       "</table>\n",
       "</div>"
      ],
      "text/plain": [
       "        PC1       PC2       PC3       PC4       PC5       PC6       PC7  \\\n",
       "0  0.391319 -1.201480 -0.144387  0.087451 -0.339878 -0.770705  0.325513   \n",
       "1  4.918264  0.161819  0.260921 -0.173135  0.152522 -0.190551  0.892711   \n",
       "2 -0.979373 -1.681827 -0.129950  0.197744 -0.618196  0.917564  0.156921   \n",
       "3 -2.048714  0.766881 -0.201251  0.143089 -0.243193  0.112856  0.233817   \n",
       "4 -2.479937  0.205079  0.010633  0.099488 -0.150123  0.022672  0.190088   \n",
       "\n",
       "        PC8       PC9      PC10  \n",
       "0  0.068958  0.169749 -0.252772  \n",
       "1 -0.999541  0.357837 -0.025498  \n",
       "2  0.814881  0.030497  0.241747  \n",
       "3  0.355381  0.025467 -0.133834  \n",
       "4  0.324685  0.091452  0.085824  "
      ]
     },
     "execution_count": 20,
     "metadata": {},
     "output_type": "execute_result"
    }
   ],
   "source": [
    "pca = decomposition.PCA(n_components=10)\n",
    "pc = pca.fit_transform(x)\n",
    "pc_columns = ['PC1', 'PC2','PC3','PC4','PC5','PC6','PC7','PC8', 'PC9', 'PC10']\n",
    "pc_df = pd.DataFrame(data = pc , columns = pc_columns)\n",
    "pc_df.head()"
   ]
  },
  {
   "cell_type": "code",
   "execution_count": 21,
   "metadata": {},
   "outputs": [
    {
     "data": {
      "image/png": "[encoded data removed]",
      "text/plain": [
       "<Figure size 432x288 with 1 Axes>"
      ]
     },
     "metadata": {
      "needs_background": "light"
     },
     "output_type": "display_data"
    }
   ],
   "source": [
    "pcdf = pd.DataFrame({'var':pca.explained_variance_ratio_,'PC':pc_columns})\n",
    "sns.barplot(x='PC',y=\"var\", data=pcdf, color=\"c\");"
   ]
  }
 ],
 "metadata": {
  "kernelspec": {
   "display_name": "Python 3.10.1 64-bit",
   "language": "python",
   "name": "python3"
  },
  "language_info": {
   "codemirror_mode": {
    "name": "ipython",
    "version": 3
   },
   "file_extension": ".py",
   "mimetype": "text/x-python",
   "name": "python",
   "nbconvert_exporter": "python",
   "pygments_lexer": "ipython3",
   "version": "3.10.1"
  },
  "orig_nbformat": 4,
  "vscode": {
   "interpreter": {
    "hash": "4f91e35da70fd7a53ceee9ab287ed040d81eb2ccfac088551011048c25bbd6e1"
   }
  }
 },
 "nbformat": 4,
 "nbformat_minor": 2
}
