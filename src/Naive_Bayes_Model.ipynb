{
 "cells": [
  {
   "cell_type": "code",
   "execution_count": 33,
   "metadata": {},
   "outputs": [],
   "source": [
    "import pandas as pd\n",
    "import numpy as np\n",
    "import matplotlib.pyplot as plt\n",
    "import matplotlib as mpl\n",
    "mpl.rcParams['figure.facecolor'] = 'white'\n"
   ]
  },
  {
   "cell_type": "code",
   "execution_count": 34,
   "metadata": {},
   "outputs": [],
   "source": [
    "from sklearn.model_selection import train_test_split\n",
    "from sklearn.linear_model import LogisticRegression \n",
    "from sklearn import metrics\n",
    "from sklearn.model_selection import KFold\n",
    "from sklearn.naive_bayes import GaussianNB, CategoricalNB, MultinomialNB, BernoulliNB"
   ]
  },
  {
   "cell_type": "code",
   "execution_count": 35,
   "metadata": {},
   "outputs": [],
   "source": [
    "import warnings\n",
    "warnings.filterwarnings('ignore')"
   ]
  },
  {
   "cell_type": "code",
   "execution_count": 36,
   "metadata": {},
   "outputs": [],
   "source": [
    "df = pd.read_csv('../assests/scaled_voice_data.csv')"
   ]
  },
  {
   "cell_type": "code",
   "execution_count": 37,
   "metadata": {},
   "outputs": [
    {
     "data": {
      "text/html": [
       "<div>\n",
       "<style scoped>\n",
       "    .dataframe tbody tr th:only-of-type {\n",
       "        vertical-align: middle;\n",
       "    }\n",
       "\n",
       "    .dataframe tbody tr th {\n",
       "        vertical-align: top;\n",
       "    }\n",
       "\n",
       "    .dataframe thead th {\n",
       "        text-align: right;\n",
       "    }\n",
       "</style>\n",
       "<table border=\"1\" class=\"dataframe\">\n",
       "  <thead>\n",
       "    <tr style=\"text-align: right;\">\n",
       "      <th></th>\n",
       "      <th>meanfreq</th>\n",
       "      <th>sd</th>\n",
       "      <th>median</th>\n",
       "      <th>Q25</th>\n",
       "      <th>Q75</th>\n",
       "      <th>IQR</th>\n",
       "      <th>kurt</th>\n",
       "      <th>sp.ent</th>\n",
       "      <th>sfm</th>\n",
       "      <th>mode</th>\n",
       "      <th>meanfun</th>\n",
       "      <th>minfun</th>\n",
       "      <th>modindx</th>\n",
       "      <th>gender</th>\n",
       "    </tr>\n",
       "  </thead>\n",
       "  <tbody>\n",
       "    <tr>\n",
       "      <th>0</th>\n",
       "      <td>0.053833</td>\n",
       "      <td>0.182412</td>\n",
       "      <td>-0.043344</td>\n",
       "      <td>-0.211354</td>\n",
       "      <td>0.539997</td>\n",
       "      <td>0.538854</td>\n",
       "      <td>-0.240888</td>\n",
       "      <td>0.835319</td>\n",
       "      <td>-0.042416</td>\n",
       "      <td>0.207412</td>\n",
       "      <td>-0.837226</td>\n",
       "      <td>0.540973</td>\n",
       "      <td>-0.366495</td>\n",
       "      <td>male</td>\n",
       "    </tr>\n",
       "    <tr>\n",
       "      <th>1</th>\n",
       "      <td>-1.948336</td>\n",
       "      <td>1.299573</td>\n",
       "      <td>-2.059818</td>\n",
       "      <td>-1.855442</td>\n",
       "      <td>-0.519379</td>\n",
       "      <td>1.824196</td>\n",
       "      <td>0.163259</td>\n",
       "      <td>1.025120</td>\n",
       "      <td>1.077412</td>\n",
       "      <td>-2.141210</td>\n",
       "      <td>-1.247501</td>\n",
       "      <td>-1.089900</td>\n",
       "      <td>0.159773</td>\n",
       "      <td>male</td>\n",
       "    </tr>\n",
       "    <tr>\n",
       "      <th>2</th>\n",
       "      <td>0.646042</td>\n",
       "      <td>0.495259</td>\n",
       "      <td>0.871554</td>\n",
       "      <td>0.640148</td>\n",
       "      <td>1.145548</td>\n",
       "      <td>-0.095419</td>\n",
       "      <td>-0.201828</td>\n",
       "      <td>0.608758</td>\n",
       "      <td>0.670084</td>\n",
       "      <td>0.694611</td>\n",
       "      <td>0.648140</td>\n",
       "      <td>0.567828</td>\n",
       "      <td>-0.761240</td>\n",
       "      <td>female</td>\n",
       "    </tr>\n",
       "    <tr>\n",
       "      <th>3</th>\n",
       "      <td>0.676572</td>\n",
       "      <td>-0.985618</td>\n",
       "      <td>0.417501</td>\n",
       "      <td>0.876052</td>\n",
       "      <td>-0.107268</td>\n",
       "      <td>-1.056066</td>\n",
       "      <td>-0.218332</td>\n",
       "      <td>-0.515259</td>\n",
       "      <td>-0.533573</td>\n",
       "      <td>0.230766</td>\n",
       "      <td>0.775463</td>\n",
       "      <td>0.602869</td>\n",
       "      <td>-0.112419</td>\n",
       "      <td>female</td>\n",
       "    </tr>\n",
       "    <tr>\n",
       "      <th>4</th>\n",
       "      <td>0.945822</td>\n",
       "      <td>-0.909062</td>\n",
       "      <td>0.667029</td>\n",
       "      <td>1.041938</td>\n",
       "      <td>0.402815</td>\n",
       "      <td>-0.962975</td>\n",
       "      <td>-0.219860</td>\n",
       "      <td>-0.715600</td>\n",
       "      <td>-0.588908</td>\n",
       "      <td>0.517069</td>\n",
       "      <td>0.611636</td>\n",
       "      <td>0.652038</td>\n",
       "      <td>-0.295663</td>\n",
       "      <td>female</td>\n",
       "    </tr>\n",
       "  </tbody>\n",
       "</table>\n",
       "</div>"
      ],
      "text/plain": [
       "   meanfreq        sd    median       Q25       Q75       IQR      kurt  \\\n",
       "0  0.053833  0.182412 -0.043344 -0.211354  0.539997  0.538854 -0.240888   \n",
       "1 -1.948336  1.299573 -2.059818 -1.855442 -0.519379  1.824196  0.163259   \n",
       "2  0.646042  0.495259  0.871554  0.640148  1.145548 -0.095419 -0.201828   \n",
       "3  0.676572 -0.985618  0.417501  0.876052 -0.107268 -1.056066 -0.218332   \n",
       "4  0.945822 -0.909062  0.667029  1.041938  0.402815 -0.962975 -0.219860   \n",
       "\n",
       "     sp.ent       sfm      mode   meanfun    minfun   modindx  gender  \n",
       "0  0.835319 -0.042416  0.207412 -0.837226  0.540973 -0.366495    male  \n",
       "1  1.025120  1.077412 -2.141210 -1.247501 -1.089900  0.159773    male  \n",
       "2  0.608758  0.670084  0.694611  0.648140  0.567828 -0.761240  female  \n",
       "3 -0.515259 -0.533573  0.230766  0.775463  0.602869 -0.112419  female  \n",
       "4 -0.715600 -0.588908  0.517069  0.611636  0.652038 -0.295663  female  "
      ]
     },
     "execution_count": 37,
     "metadata": {},
     "output_type": "execute_result"
    }
   ],
   "source": [
    "df.head()"
   ]
  },
  {
   "cell_type": "markdown",
   "metadata": {},
   "source": [
    "Naive Bayes Implementations"
   ]
  },
  {
   "cell_type": "code",
   "execution_count": 38,
   "metadata": {},
   "outputs": [],
   "source": [
    "class NavieBayesModel:\n",
    "\n",
    "    def Gaussian_Naive_Bayes(x_train, y_train, x_test, y_test, i, k, display_stats=False):\n",
    "        NB_model = GaussianNB()\n",
    "        NB_model.fit(x_train,y_train)\n",
    "        y_pred = NB_model.predict(x_test)\n",
    "\n",
    "        # Accuracy, Precision, Recall, F1-score of Model\n",
    "        accuracy = metrics.accuracy_score(y_test, y_pred)\n",
    "        precision = metrics.precision_score(y_test, y_pred, average='weighted')\n",
    "        recall = metrics.recall_score(y_test, y_pred, average='weighted')\n",
    "        f1_score = metrics.f1_score(y_test, y_pred, average='weighted')\n",
    "\n",
    "        if display_stats:\n",
    "            print(f\"Statistics for Fold {i} in K-fold (k={k}) 'Logistic Regression' algorithm\")\n",
    "            print(f\"Accuracy: {accuracy}\")\n",
    "            print(f\"Precision: {precision}\")\n",
    "            print(f\"Recall: {recall}\")\n",
    "            print(f\"F1-score: {f1_score}\")\n",
    "            print()\n",
    "            \n",
    "        return np.array([accuracy, precision, recall, f1_score])\n",
    "\n",
    "    def Multinomial_Naive_Bayes(x_train, y_train, x_test, y_test, i, k, display_stats=False):\n",
    "        NB_model = MultinomialNB()\n",
    "        NB_model.fit(x_train,y_train)\n",
    "        y_pred = NB_model.predict(x_test)\n",
    "\n",
    "        # Accuracy, Precision, Recall, F1-score of Model\n",
    "        accuracy = metrics.accuracy_score(y_test, y_pred)\n",
    "        precision = metrics.precision_score(y_test, y_pred, average='weighted')\n",
    "        recall = metrics.recall_score(y_test, y_pred, average='weighted')\n",
    "        f1_score = metrics.f1_score(y_test, y_pred, average='weighted')\n",
    "\n",
    "        if display_stats:\n",
    "            print(f\"Statistics for Fold {i} in K-fold (k={k}) 'Logistic Regression' algorithm\")\n",
    "            print(f\"Accuracy: {accuracy}\")\n",
    "            print(f\"Precision: {precision}\")\n",
    "            print(f\"Recall: {recall}\")\n",
    "            print(f\"F1-score: {f1_score}\")\n",
    "            print()\n",
    "            \n",
    "        return np.array([accuracy, precision, recall, f1_score])\n",
    "\n",
    "    def Categorical_Naive_Bayes(x_train, y_train, x_test, y_test, i, k, display_stats=False):\n",
    "        NB_model = CategoricalNB()\n",
    "        NB_model.fit(x_train,y_train)\n",
    "        y_pred = NB_model.predict(x_test)\n",
    "\n",
    "        # Accuracy, Precision, Recall, F1-score of Model\n",
    "        accuracy = metrics.accuracy_score(y_test, y_pred)\n",
    "        precision = metrics.precision_score(y_test, y_pred, average='weighted')\n",
    "        recall = metrics.recall_score(y_test, y_pred, average='weighted')\n",
    "        f1_score = metrics.f1_score(y_test, y_pred, average='weighted')\n",
    "\n",
    "        if display_stats:\n",
    "            print(f\"Statistics for Fold {i} in K-fold (k={k}) 'Logistic Regression' algorithm\")\n",
    "            print(f\"Accuracy: {accuracy}\")\n",
    "            print(f\"Precision: {precision}\")\n",
    "            print(f\"Recall: {recall}\")\n",
    "            print(f\"F1-score: {f1_score}\")\n",
    "            print()\n",
    "            \n",
    "        return np.array([accuracy, precision, recall, f1_score])\n",
    "\n",
    "    def Bernoulli_Naive_Bayes(x_train, y_train, x_test, y_test, i, k, display_stats=False):\n",
    "        NB_model = BernoulliNB()\n",
    "        NB_model.fit(x_train,y_train)\n",
    "        y_pred = NB_model.predict(x_test)\n",
    "\n",
    "        # Accuracy, Precision, Recall, F1-score of Model\n",
    "        accuracy = metrics.accuracy_score(y_test, y_pred)\n",
    "        precision = metrics.precision_score(y_test, y_pred, average='weighted')\n",
    "        recall = metrics.recall_score(y_test, y_pred, average='weighted')\n",
    "        f1_score = metrics.f1_score(y_test, y_pred, average='weighted')\n",
    "\n",
    "        if display_stats:\n",
    "            print(f\"Statistics for Fold {i} in K-fold (k={k}) 'Logistic Regression' algorithm\")\n",
    "            print(f\"Accuracy: {accuracy}\")\n",
    "            print(f\"Precision: {precision}\")\n",
    "            print(f\"Recall: {recall}\")\n",
    "            print(f\"F1-score: {f1_score}\")\n",
    "            print()\n",
    "            \n",
    "        return np.array([accuracy, precision, recall, f1_score])"
   ]
  },
  {
   "cell_type": "markdown",
   "metadata": {},
   "source": [
    "#### Implementing Gaussian Naive Bayes"
   ]
  },
  {
   "cell_type": "code",
   "execution_count": 39,
   "metadata": {},
   "outputs": [
    {
     "name": "stdout",
     "output_type": "stream",
     "text": [
      "Mean accuracy: 0.9286617018727787\n",
      "Mean Precision: 0.9307402944202433\n",
      "Mean Recall: 0.9286617018727787\n",
      "Mean F1-score: 0.9286348445863141\n"
     ]
    }
   ],
   "source": [
    "def run_Gaussian_NaiveBayes():\n",
    "    x = df.drop('gender', axis=1)\n",
    "    y = df['gender']\n",
    "\n",
    "    k = 10\n",
    "    i = 0\n",
    "    k_fold = KFold(n_splits=k)\n",
    "\n",
    "    # Holds Mean of {accuracy, precision, recall, f1_score}\n",
    "    mean_stats = np.zeros(4)\n",
    "\n",
    "    for train_index, test_index in k_fold.split(x):\n",
    "        x_train, x_test = x.loc[train_index], x.loc[test_index]\n",
    "        y_train, y_test = y.loc[train_index], y.loc[test_index]\n",
    "        \n",
    "        stats = NavieBayesModel.Gaussian_Naive_Bayes(x_train, y_train, x_test, y_test, i:=i+1, k, display_stats=False)\n",
    "        # print(stats)\n",
    "        mean_stats = mean_stats + stats\n",
    "        \n",
    "    # Take mean of {accuracy, precision, recall, f1_score}\n",
    "    mean_stats = mean_stats / k\n",
    "\n",
    "    print(f\"Mean accuracy: {mean_stats[0]}\")\n",
    "    print(f\"Mean Precision: {mean_stats[1]}\")\n",
    "    print(f\"Mean Recall: {mean_stats[2]}\")\n",
    "    print(f\"Mean F1-score: {mean_stats[3]}\")\n",
    "\n",
    "run_Gaussian_NaiveBayes()"
   ]
  },
  {
   "cell_type": "markdown",
   "metadata": {},
   "source": [
    "#### Implementing Bernoulli Naive Byes"
   ]
  },
  {
   "cell_type": "code",
   "execution_count": 40,
   "metadata": {},
   "outputs": [
    {
     "name": "stdout",
     "output_type": "stream",
     "text": [
      "Mean accuracy: 0.8746915305674239\n",
      "Mean Precision: 0.8798348418671216\n",
      "Mean Recall: 0.8746915305674239\n",
      "Mean F1-score: 0.8744397748433717\n"
     ]
    }
   ],
   "source": [
    "def run_Bernoulli_NaiveBayes():\n",
    "    x = df.drop('gender', axis=1)\n",
    "    y = df['gender']\n",
    "\n",
    "    k = 10\n",
    "    i = 0\n",
    "    k_fold = KFold(n_splits=k)\n",
    "\n",
    "    # Holds Mean of {accuracy, precision, recall, f1_score}\n",
    "    mean_stats = np.zeros(4)\n",
    "\n",
    "    for train_index, test_index in k_fold.split(x):\n",
    "        x_train, x_test = x.loc[train_index], x.loc[test_index]\n",
    "        y_train, y_test = y.loc[train_index], y.loc[test_index]\n",
    "        \n",
    "        stats = NavieBayesModel.Bernoulli_Naive_Bayes(x_train, y_train, x_test, y_test, i:=i+1, k, display_stats=False)\n",
    "        # print(stats)\n",
    "        mean_stats = mean_stats + stats\n",
    "        \n",
    "    # Take mean of {accuracy, precision, recall, f1_score}\n",
    "    mean_stats = mean_stats / k\n",
    "\n",
    "    print(f\"Mean accuracy: {mean_stats[0]}\")\n",
    "    print(f\"Mean Precision: {mean_stats[1]}\")\n",
    "    print(f\"Mean Recall: {mean_stats[2]}\")\n",
    "    print(f\"Mean F1-score: {mean_stats[3]}\")\n",
    "\n",
    "run_Bernoulli_NaiveBayes()"
   ]
  },
  {
   "cell_type": "markdown",
   "metadata": {},
   "source": [
    "## ROC-AUC Curve for Gaussian Naive Bayes"
   ]
  },
  {
   "cell_type": "code",
   "execution_count": 41,
   "metadata": {},
   "outputs": [],
   "source": [
    "from sklearn.preprocessing import LabelEncoder\n",
    "from sklearn.metrics import roc_auc_score\n",
    "from sklearn.preprocessing import LabelEncoder\n",
    "from sklearn.preprocessing import label_binarize\n",
    "from sklearn import metrics\n",
    "import matplotlib.pyplot as plt"
   ]
  },
  {
   "cell_type": "code",
   "execution_count": 42,
   "metadata": {},
   "outputs": [],
   "source": [
    "x = df.drop('gender',axis=1)\n",
    "y = df['gender']"
   ]
  },
  {
   "cell_type": "code",
   "execution_count": 43,
   "metadata": {},
   "outputs": [],
   "source": [
    "le = LabelEncoder()\n",
    "Y_encoded = le.fit_transform(y)"
   ]
  },
  {
   "cell_type": "code",
   "execution_count": 44,
   "metadata": {},
   "outputs": [],
   "source": [
    "xtrain_roc, xtest_roc, ytrain_roc, ytest_roc = train_test_split(x, Y_encoded, test_size=0.2)"
   ]
  },
  {
   "cell_type": "code",
   "execution_count": 45,
   "metadata": {},
   "outputs": [],
   "source": [
    "def roc_auc(y_test, y_pred):\n",
    "    fig, axes = plt.subplots(nrows=2,ncols=1,figsize=(8,8))\n",
    "    lisrt=['male','female']\n",
    "    for m in range(2):\n",
    "        ls=[]\n",
    "        for j in y_test:\n",
    "            if m==j:\n",
    "                ls.append(1)\n",
    "            else:\n",
    "                ls.append(0)\n",
    "\n",
    "        fpr, tpr, thresh =  metrics.roc_curve(ls,y_pred[:,m])\n",
    "        auc = metrics.roc_auc_score(ls,y_pred[:,m])\n",
    "        axes[m].plot(fpr, tpr,  label=\"AUC = \" +str(auc), linestyle='--',color='red')\n",
    "        axes[m].set_title(f'ROC-AUC curve for class {lisrt[m]}')\n",
    "        axes[m].set_xlabel('False Positive Rate')\n",
    "        axes[m].set_ylabel('True Positive rate')\n",
    "        axes[m].legend(lisrt[m])\n",
    "        axes[m].text(0.5,0.0, f'AUC value :{auc}')\n",
    "        plt.savefig('images/ROC-AUC_Gaussian_Naive_Bayes.png',dpi=300)\n",
    "        plt.tight_layout()"
   ]
  },
  {
   "cell_type": "code",
   "execution_count": 46,
   "metadata": {},
   "outputs": [
    {
     "data": {
      "image/png": "[encoded data removed]",
      "text/plain": [
       "<Figure size 576x576 with 2 Axes>"
      ]
     },
     "metadata": {},
     "output_type": "display_data"
    }
   ],
   "source": [
    "gaussian_nb = GaussianNB()\n",
    "gaussian_nb.fit(xtrain_roc, ytrain_roc)\n",
    "ypred_roc = gaussian_nb.predict_proba(xtest_roc)\n",
    "\n",
    "roc_auc(ytest_roc, ypred_roc)"
   ]
  },
  {
   "cell_type": "markdown",
   "metadata": {},
   "source": [
    "# Loss curve plot for Gaussian Naive Bayes"
   ]
  },
  {
   "cell_type": "code",
   "execution_count": 47,
   "metadata": {},
   "outputs": [],
   "source": [
    "x = df.drop('gender', axis=1)\n",
    "y = df['gender']\n",
    "\n",
    "x_train, x_test, y_train, y_test = train_test_split(x, y, test_size=0.2)"
   ]
  },
  {
   "cell_type": "code",
   "execution_count": 48,
   "metadata": {},
   "outputs": [
    {
     "data": {
      "image/png": "[encoded data removed]",
      "text/plain": [
       "<Figure size 576x432 with 1 Axes>"
      ]
     },
     "metadata": {},
     "output_type": "display_data"
    }
   ],
   "source": [
    "train_loss, test_loss = [], []\n",
    "epochs = 100\n",
    "\n",
    "gnb_model = GaussianNB()\n",
    "\n",
    "for _ in range(epochs):\n",
    "    gnb_model.partial_fit(x_train, y_train, classes=np.unique(y_train))\n",
    "    \n",
    "    train_loss.append(metrics.log_loss(y_train, gnb_model.predict_proba(x_train)))\n",
    "    test_loss.append(metrics.log_loss(y_test, gnb_model.predict_proba(x_test)))\n",
    "\n",
    "plt.figure(figsize=(8, 6))\n",
    "plt.plot(train_loss, label='Training Loss')\n",
    "plt.plot(test_loss, label='Validation Loss')\n",
    "plt.xlabel('Epochs')\n",
    "plt.ylabel('Log Loss')\n",
    "plt.title('Log Loss vs Epochs')\n",
    "# plt.ylim(0, 5)\n",
    "plt.legend()\n",
    "plt.savefig('images/Log_Loss_Naive_Bayes.png',dpi=300);"
   ]
  },
  {
   "cell_type": "markdown",
   "metadata": {},
   "source": [
    "# Loss curve plot for Bernoulli Naive Bayes"
   ]
  },
  {
   "cell_type": "code",
   "execution_count": 49,
   "metadata": {},
   "outputs": [
    {
     "data": {
      "image/png": "[encoded data removed]",
      "text/plain": [
       "<Figure size 576x432 with 1 Axes>"
      ]
     },
     "metadata": {},
     "output_type": "display_data"
    }
   ],
   "source": [
    "train_loss, test_loss = [], []\n",
    "epochs = 100\n",
    "\n",
    "bn_model = BernoulliNB()\n",
    "\n",
    "for _ in range(epochs):\n",
    "    bn_model.partial_fit(x_train, y_train, classes=np.unique(y_train))\n",
    "    \n",
    "    train_loss.append(metrics.log_loss(y_train, bn_model.predict_proba(x_train)))\n",
    "    test_loss.append(metrics.log_loss(y_test, bn_model.predict_proba(x_test)))\n",
    "\n",
    "plt.figure(figsize=(8, 6))\n",
    "plt.plot(train_loss, label='Training Loss')\n",
    "plt.plot(test_loss, label='Validation Loss')\n",
    "plt.xlabel('Epochs')\n",
    "plt.ylabel('Log Loss')\n",
    "plt.title('Log Loss vs Epochs')\n",
    "# plt.ylim(0, 5)\n",
    "plt.legend();"
   ]
  }
 ],
 "metadata": {
  "kernelspec": {
   "display_name": "Python 3.10.1 64-bit",
   "language": "python",
   "name": "python3"
  },
  "language_info": {
   "codemirror_mode": {
    "name": "ipython",
    "version": 3
   },
   "file_extension": ".py",
   "mimetype": "text/x-python",
   "name": "python",
   "nbconvert_exporter": "python",
   "pygments_lexer": "ipython3",
   "version": "3.10.1"
  },
  "orig_nbformat": 4,
  "vscode": {
   "interpreter": {
    "hash": "4f91e35da70fd7a53ceee9ab287ed040d81eb2ccfac088551011048c25bbd6e1"
   }
  }
 },
 "nbformat": 4,
 "nbformat_minor": 2
}
